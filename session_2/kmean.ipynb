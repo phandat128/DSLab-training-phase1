{
 "cells": [
  {
   "cell_type": "code",
   "execution_count": 2,
   "id": "7d2d2ed3",
   "metadata": {},
   "outputs": [],
   "source": [
    "from kmean import Kmeans"
   ]
  },
  {
   "cell_type": "code",
   "execution_count": 3,
   "id": "5f75bb8f",
   "metadata": {},
   "outputs": [
    {
     "name": "stdout",
     "output_type": "stream",
     "text": [
      "start loading data\n",
      "data loaded\n",
      "OK\n"
     ]
    }
   ],
   "source": [
    "kmean = Kmeans(num_clusters=20)\n",
    "kmean.load_data(\"../datasets/20news-bydate/tf-idf.txt\")\n",
    "print(\"OK\")"
   ]
  },
  {
   "cell_type": "code",
   "execution_count": null,
   "id": "a529c9da",
   "metadata": {},
   "outputs": [],
   "source": [
    "kmean.run(128, criterion=\"max_iters\", threshold=10)"
   ]
  },
  {
   "cell_type": "code",
   "execution_count": 5,
   "id": "b66dc416",
   "metadata": {},
   "outputs": [
    {
     "name": "stdout",
     "output_type": "stream",
     "text": [
      "purity = 0.4004772847799187\n"
     ]
    }
   ],
   "source": [
    "print(\"purity = {}\".format(kmean.compute_purity()))"
   ]
  },
  {
   "cell_type": "code",
   "execution_count": 6,
   "id": "e7713467",
   "metadata": {},
   "outputs": [
    {
     "name": "stdout",
     "output_type": "stream",
     "text": [
      "Cluster 0 has 92 members\n",
      "Cluster 1 has 578 members\n",
      "Cluster 2 has 596 members\n",
      "Cluster 3 has 97 members\n",
      "Cluster 4 has 573 members\n",
      "Cluster 5 has 855 members\n",
      "Cluster 6 has 361 members\n",
      "Cluster 7 has 439 members\n",
      "Cluster 8 has 147 members\n",
      "Cluster 9 has 3877 members\n",
      "Cluster 10 has 77 members\n",
      "Cluster 11 has 212 members\n",
      "Cluster 12 has 376 members\n",
      "Cluster 13 has 163 members\n",
      "Cluster 14 has 269 members\n",
      "Cluster 15 has 130 members\n",
      "Cluster 16 has 1137 members\n",
      "Cluster 17 has 319 members\n",
      "Cluster 18 has 678 members\n",
      "Cluster 19 has 338 members\n"
     ]
    }
   ],
   "source": [
    "i=0\n",
    "for cluster in kmean._clusters:\n",
    "    print(\"Cluster {i} has {num_members} members\".format(i = i, num_members=len(cluster._members)))\n",
    "    i += 1"
   ]
  },
  {
   "cell_type": "code",
   "execution_count": null,
   "id": "cdcd6bc8",
   "metadata": {},
   "outputs": [],
   "source": []
  }
 ],
 "metadata": {
  "kernelspec": {
   "display_name": "Python 3",
   "language": "python",
   "name": "python3"
  },
  "language_info": {
   "codemirror_mode": {
    "name": "ipython",
    "version": 3
   },
   "file_extension": ".py",
   "mimetype": "text/x-python",
   "name": "python",
   "nbconvert_exporter": "python",
   "pygments_lexer": "ipython3",
   "version": "3.11.1"
  },
  "vscode": {
   "interpreter": {
    "hash": "579c5a20767f00733f9ddc94136beeba9437f92726fab212899b290ca8f91f38"
   }
  }
 },
 "nbformat": 4,
 "nbformat_minor": 5
}
